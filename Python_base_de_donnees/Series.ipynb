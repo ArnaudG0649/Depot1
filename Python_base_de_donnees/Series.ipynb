{
 "cells": [
  {
   "cell_type": "code",
   "execution_count": 1,
   "id": "0d74d01a",
   "metadata": {},
   "outputs": [],
   "source": [
    "import pandas as pd\n"
   ]
  },
  {
   "cell_type": "code",
   "execution_count": 22,
   "id": "9b76b712",
   "metadata": {},
   "outputs": [],
   "source": [
    "notes = {\"maths\" : 19,\n",
    "         \"Anglais\" : 12,\n",
    "         \"Géo\" : 15}"
   ]
  },
  {
   "cell_type": "code",
   "execution_count": 32,
   "id": "1dc9c781",
   "metadata": {
    "scrolled": false
   },
   "outputs": [
    {
     "data": {
      "text/plain": [
       "maths      19\n",
       "Anglais    12\n",
       "Géo        15\n",
       "dtype: int64"
      ]
     },
     "execution_count": 32,
     "metadata": {},
     "output_type": "execute_result"
    }
   ],
   "source": [
    "Ser=pd.Series(notes) ; Ser"
   ]
  },
  {
   "cell_type": "code",
   "execution_count": 34,
   "id": "dfead5b5",
   "metadata": {},
   "outputs": [],
   "source": [
    "Ser[\"Français\"]=8"
   ]
  },
  {
   "cell_type": "code",
   "execution_count": 35,
   "id": "101e1736",
   "metadata": {},
   "outputs": [
    {
     "name": "stdout",
     "output_type": "stream",
     "text": [
      "maths       19\n",
      "Anglais     12\n",
      "Géo         15\n",
      "Français     8\n",
      "dtype: int64\n"
     ]
    }
   ],
   "source": [
    "print(Ser)"
   ]
  },
  {
   "cell_type": "code",
   "execution_count": 7,
   "id": "5cde2499",
   "metadata": {},
   "outputs": [
    {
     "data": {
      "text/plain": [
       "['maths', 'Anglais', 'Géo']"
      ]
     },
     "execution_count": 7,
     "metadata": {},
     "output_type": "execute_result"
    }
   ],
   "source": [
    "Ser.index #Les noms"
   ]
  },
  {
   "cell_type": "code",
   "execution_count": null,
   "id": "f3089c19",
   "metadata": {},
   "outputs": [],
   "source": [
    "Ser.values #Les valeurs"
   ]
  },
  {
   "cell_type": "code",
   "execution_count": 11,
   "id": "44f299a8",
   "metadata": {
    "scrolled": true
   },
   "outputs": [
    {
     "name": "stdout",
     "output_type": "stream",
     "text": [
      "Meilleur note 10 \n"
     ]
    }
   ],
   "source": [
    "print(f\"Meilleur note {Ser['maths']} \")"
   ]
  },
  {
   "cell_type": "code",
   "execution_count": 12,
   "id": "6680b7d7",
   "metadata": {},
   "outputs": [],
   "source": [
    "import numpy as np"
   ]
  },
  {
   "cell_type": "code",
   "execution_count": 28,
   "id": "63be1b29",
   "metadata": {},
   "outputs": [],
   "source": [
    "Gens = pd.Series(np.array([52,47,39]),index=[\"Pierre\",\"Paul\",\"Jacques\"],name=\"âge\")"
   ]
  },
  {
   "cell_type": "code",
   "execution_count": 29,
   "id": "09de13de",
   "metadata": {},
   "outputs": [
    {
     "data": {
      "text/plain": [
       "Pierre     52\n",
       "Paul       47\n",
       "Jacques    39\n",
       "Name: Taille de..., dtype: int64"
      ]
     },
     "execution_count": 29,
     "metadata": {},
     "output_type": "execute_result"
    }
   ],
   "source": [
    "Gens=Gens.rename(\"Taille de...\")\n",
    "Gens"
   ]
  },
  {
   "cell_type": "code",
   "execution_count": 30,
   "id": "7f26fd21",
   "metadata": {
    "scrolled": true
   },
   "outputs": [
    {
     "name": "stdout",
     "output_type": "stream",
     "text": [
      "Pierre     52\n",
      "Paul       47\n",
      "Jacques    39\n",
      "Name: Taille de..., dtype: int64\n"
     ]
    }
   ],
   "source": [
    "print(Gens[\"Pierre\":\"Jacques\"])"
   ]
  },
  {
   "cell_type": "code",
   "execution_count": 39,
   "id": "a8239432",
   "metadata": {},
   "outputs": [
    {
     "name": "stdout",
     "output_type": "stream",
     "text": [
      "Italie\n",
      "Espagne\n",
      "Espagne\n"
     ]
    }
   ],
   "source": [
    "Pays=pd.Series([\"France\",\"Italie\",\"Espagne\"], index=[1,2,7])\n",
    "print(Pays[2])\n",
    "print(Pays.iloc[2])\n",
    "print(Pays.loc[7])\n",
    "\n",
    "\n"
   ]
  },
  {
   "cell_type": "code",
   "execution_count": 36,
   "id": "b2fe8b65",
   "metadata": {},
   "outputs": [
    {
     "data": {
      "text/plain": [
       "Pierre          52\n",
       "Paul            47\n",
       "Jacques         39\n",
       "1           France\n",
       "2           Italie\n",
       "7          Espagne\n",
       "dtype: object"
      ]
     },
     "execution_count": 36,
     "metadata": {},
     "output_type": "execute_result"
    }
   ],
   "source": [
    "pd.concat([Gens,Pays])"
   ]
  }
 ],
 "metadata": {
  "kernelspec": {
   "display_name": "Python 3 (ipykernel)",
   "language": "python",
   "name": "python3"
  },
  "language_info": {
   "codemirror_mode": {
    "name": "ipython",
    "version": 3
   },
   "file_extension": ".py",
   "mimetype": "text/x-python",
   "name": "python",
   "nbconvert_exporter": "python",
   "pygments_lexer": "ipython3",
   "version": "3.11.4"
  }
 },
 "nbformat": 4,
 "nbformat_minor": 5
}
